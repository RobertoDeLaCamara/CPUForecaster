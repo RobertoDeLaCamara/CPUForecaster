{
 "cells": [
  {
   "cell_type": "markdown",
   "metadata": {},
   "source": [
    "## Exploratory Data Analysis\n",
    "Let's start by cleaning and organizing the data: "
   ]
  },
  {
   "cell_type": "code",
   "execution_count": null,
   "metadata": {},
   "outputs": [],
   "source": [
    "import pandas as pd\n",
    "\n",
    "# Load the data from the first sheet to inspect its structure\n",
    "data = pd.read_excel('../data/CPU_Memory_Series.xlsx', sheet_name='Sheet1')\n",
    "\n",
    "# Display the first few rows of the data to understand its format and content\n",
    "data.head()\n"
   ]
  },
  {
   "cell_type": "code",
   "execution_count": null,
   "metadata": {},
   "outputs": [],
   "source": [
    "\n",
    "# Clean the dataset by renaming columns and dropping unnecessary rows\n",
    "# Assuming the first row after the header row contains valid data\n",
    "\n",
    "# Renaming columns based on the first row\n",
    "# Adjusting column renaming to match the dataset's column count\n",
    "data.columns = [\n",
    "    \"Iteration\", \"CPS\", \"Time Start\", \"Time Stop\", \"Network Function\", \n",
    "    \"Cluster\", \"Master/Worker\", \"Namespace\", \"Microservice\", \"Pod\",\n",
    "    \"Pod Age\", \"Pod Age Unit\", \"Pod Resource Limits CPU\", \n",
    "    \"Pod Resource Limits Memory\", \"Pod Resource Requests CPU\",\n",
    "    \"Pod Resource Requests Memory\", \"Pod Resource Requests Factor CPU\", \n",
    "    \"Pod Resource Requests Factor Memory\", \"CPU Utilization (%)\", \n",
    "    \"CPU Saturation Avg (mcore)\", \"CPU Saturation Std\", \"CPU Saturation Max (mcore)\",\n",
    "    \"CPU Saturation Min (mcore)\", \"Memory Utilization Avg (Mi)\", \n",
    "    \"Memory Utilization Std\", \"Memory Utilization Max (Mi)\", \n",
    "    \"Memory Utilization Min (Mi)\", \"Memory Utilization (%)\",\n",
    "    \"Extra Column 1\", \"Extra Column 2\"  # Placeholder names for extra columns\n",
    "]\n",
    "\n",
    "# Dropping the first row if it contains header placeholders\n",
    "cleaned_data = data[1:].reset_index(drop=True)\n",
    "\n",
    "\n",
    "# Converting numeric columns to appropriate data types\n",
    "numeric_columns = [\n",
    "    \"CPS\", \"CPU Utilization (%)\", \"CPU Saturation Avg (mcore)\", \n",
    "    \"CPU Saturation Std\", \"CPU Saturation Max (mcore)\", \n",
    "    \"CPU Saturation Min (mcore)\", \"Memory Utilization Avg (Mi)\", \n",
    "    \"Memory Utilization Std\", \"Memory Utilization Max (Mi)\", \n",
    "    \"Memory Utilization Min (Mi)\", \"Memory Utilization (%)\"\n",
    "]\n",
    "for col in numeric_columns:\n",
    "    cleaned_data[col] = pd.to_numeric(cleaned_data[col], errors='coerce')\n",
    "\n",
    "# Display cleaned data for user review\n",
    "import seaborn as sns\n",
    "import matplotlib.pyplot as plt\n",
    "\n",
    "# Example: Scatter plot for CPU vs Memory Utilization\n",
    "plt.figure(figsize=(10, 6))\n",
    "sns.scatterplot(\n",
    "    data=cleaned_data,\n",
    "    x=\"CPU Utilization (%)\",\n",
    "    y=\"Memory Utilization Avg (Mi)\",\n",
    "    hue=\"Cluster\",  # Example of adding a categorical variable for color coding\n",
    "    palette=\"viridis\",\n",
    "    alpha=0.7\n",
    ")\n",
    "\n",
    "plt.title(\"CPU vs Memory Utilization\")\n",
    "plt.xlabel(\"CPU Utilization (%)\")\n",
    "plt.ylabel(\"Memory Utilization (Avg in Mi)\")\n",
    "plt.legend(title=\"Cluster\", bbox_to_anchor=(1.05, 1), loc='upper left')\n",
    "plt.grid(True)\n",
    "plt.tight_layout()\n",
    "\n",
    "# Show the plot\n",
    "plt.show()\n",
    "\n",
    "\n",
    "# Statistical summary of key metrics\n",
    "metrics_summary = cleaned_data[numeric_columns].describe()\n",
    "\n",
    "# Display the summary for user review\n",
    "import seaborn as sns\n",
    "import matplotlib.pyplot as plt\n",
    "\n",
    "# Transpose the summary for better visualization\n",
    "metrics_summary_transposed = metrics_summary.T  # Rows become columns for heatmap\n",
    "\n",
    "plt.figure(figsize=(12, 6))\n",
    "sns.heatmap(\n",
    "    metrics_summary_transposed,\n",
    "    annot=True,  # Display values in each cell\n",
    "    fmt=\".2f\",  # Format numbers to two decimal places\n",
    "    cmap=\"coolwarm\",\n",
    "    cbar_kws={'label': 'Metric Value'}\n",
    ")\n",
    "\n",
    "plt.title(\"Metrics Summary Heatmap\")\n",
    "plt.xlabel(\"Statistics\")\n",
    "plt.ylabel(\"Metrics\")\n",
    "plt.tight_layout()\n",
    "\n",
    "# Show the plot\n",
    "plt.show()\n",
    "\n"
   ]
  },
  {
   "cell_type": "code",
   "execution_count": null,
   "metadata": {},
   "outputs": [],
   "source": [
    "# Select the mean row for visualization\n",
    "metrics_means = metrics_summary.loc[\"mean\"]\n",
    "\n",
    "plt.figure(figsize=(12, 6))\n",
    "sns.barplot(\n",
    "    x=metrics_means.index,\n",
    "    y=metrics_means.values,\n",
    "    palette=\"Blues_r\"\n",
    ")\n",
    "\n",
    "plt.title(\"Mean Values of Metrics\")\n",
    "plt.xlabel(\"Metrics\")\n",
    "plt.ylabel(\"Mean Value\")\n",
    "plt.xticks(rotation=45)\n",
    "plt.tight_layout()\n",
    "\n",
    "# Show the plot\n",
    "plt.show()\n"
   ]
  },
  {
   "cell_type": "markdown",
   "metadata": {},
   "source": [
    "Let's pick one relevant microservice to focus the analysis on it: eric-ingressgw-udm-traffic "
   ]
  },
  {
   "cell_type": "code",
   "execution_count": null,
   "metadata": {},
   "outputs": [],
   "source": [
    "# Filter the dataset for the microservice \"eric-ingressgw-udm-traffic\"\n",
    "selected_microservice = \"eric-ingressgw-udm-traffic\"\n",
    "microservice_data = cleaned_data[cleaned_data[\"Microservice\"] == selected_microservice]\n",
    "\n",
    "# Check if data exists for this microservice\n",
    "if not microservice_data.empty:\n",
    "    # Display the data for the selected microservice\n",
    "       \n",
    "    plt.figure(figsize=(12, 6))\n",
    "    sns.lineplot(\n",
    "        x=metrics_summary.columns,\n",
    "        y=metrics_summary.loc[\"mean\"],\n",
    "        marker=\"o\",\n",
    "        linestyle=\"-\",\n",
    "        color=\"blue\"\n",
    "    )\n",
    "\n",
    "    plt.title(\"Mean Values of Metrics\")\n",
    "    plt.xlabel(\"Metrics\")\n",
    "    plt.ylabel(\"Mean Value\")\n",
    "    plt.xticks(rotation=45)\n",
    "    plt.grid(True)\n",
    "    plt.tight_layout()\n",
    "\n",
    "    # Show the plot\n",
    "    plt.show()\n",
    "\n",
    "else:\n",
    "    microservice_data = None\n",
    "\n",
    "microservice_data\n"
   ]
  },
  {
   "cell_type": "markdown",
   "metadata": {},
   "source": [
    "Create a time series of the CPU load of the eric-ingressgw-udm-traffic microservice: "
   ]
  },
  {
   "cell_type": "code",
   "execution_count": null,
   "metadata": {},
   "outputs": [],
   "source": [
    "# Create a time series of CPU load for the selected microservice grouped by cluster\n",
    "time_series_cpu_per_cluster = microservice_data.groupby([\"Time Start\", \"Cluster\"])[\"CPU Utilization (%)\"].mean().reset_index()\n",
    "\n",
    "# Sort the data for plotting\n",
    "time_series_cpu_per_cluster[\"Time Start\"] = pd.to_datetime(time_series_cpu_per_cluster[\"Time Start\"], errors='coerce')\n",
    "time_series_cpu_per_cluster = time_series_cpu_per_cluster.sort_values(by=[\"Time Start\", \"Cluster\"])\n",
    "\n",
    "# Plot the time series\n",
    "plt.figure(figsize=(14, 7))\n",
    "for cluster in time_series_cpu_per_cluster[\"Cluster\"].unique():\n",
    "    cluster_data = time_series_cpu_per_cluster[time_series_cpu_per_cluster[\"Cluster\"] == cluster]\n",
    "    plt.plot(\n",
    "        cluster_data[\"Time Start\"],\n",
    "        cluster_data[\"CPU Utilization (%)\"],\n",
    "        label=cluster\n",
    "    )\n",
    "\n",
    "# Customize the plot\n",
    "plt.title(\"Time Series of CPU Load for 'eric-ingressgw-udm-traffic' by Cluster\")\n",
    "plt.xlabel(\"Time Start\")\n",
    "plt.ylabel(\"CPU Utilization (%)\")\n",
    "plt.legend(title=\"Cluster\", loc=\"upper left\", bbox_to_anchor=(1.05, 1), fontsize=\"small\")\n",
    "plt.grid(True)\n",
    "plt.tight_layout()\n",
    "\n",
    "# Show the plot\n",
    "plt.show()\n"
   ]
  },
  {
   "cell_type": "markdown",
   "metadata": {},
   "source": [
    "Store time CPU load time series of capo-28037-pool1-xxpmf cluster in file"
   ]
  },
  {
   "cell_type": "code",
   "execution_count": null,
   "metadata": {},
   "outputs": [],
   "source": [
    "# Filter the time series for the specific cluster \"xxpmf\"\n",
    "time_series_cpu_xxpmf = time_series_cpu_per_cluster[time_series_cpu_per_cluster[\"Cluster\"] == \"capo-28037-pool1-xxpmf\"]\n",
    "\n",
    "# Save the filtered time series to a CSV file\n",
    "output_file_path_xxpmf = \"../data/eric_ingressgw_udm_traffic_cpu_time_series_xxpmf.csv\"\n",
    "time_series_cpu_xxpmf.to_csv(output_file_path_xxpmf, index=False)\n",
    "\n",
    "output_file_path_xxpmf\n"
   ]
  },
  {
   "cell_type": "markdown",
   "metadata": {},
   "source": [
    "Now for cluster \"lk5nv\": "
   ]
  },
  {
   "cell_type": "code",
   "execution_count": null,
   "metadata": {},
   "outputs": [],
   "source": [
    "# Filter the time series for the specific cluster \"xxpmf\"\n",
    "time_series_cpu_lk5nv = time_series_cpu_per_cluster[time_series_cpu_per_cluster[\"Cluster\"] == \"capo-28037-pool1-lk5nv\"]\n",
    "\n",
    "# Save the filtered time series to a CSV file\n",
    "output_file_path_lk5nv = \"../data/eric_ingressgw_udm_traffic_cpu_time_series_lk5nv.csv\"\n",
    "time_series_cpu_lk5nv.to_csv(output_file_path_lk5nv, index=False)\n",
    "\n",
    "output_file_path_lk5nv"
   ]
  }
 ],
 "metadata": {
  "kernelspec": {
   "display_name": "Python 3",
   "language": "python",
   "name": "python3"
  },
  "language_info": {
   "codemirror_mode": {
    "name": "ipython",
    "version": 3
   },
   "file_extension": ".py",
   "mimetype": "text/x-python",
   "name": "python",
   "nbconvert_exporter": "python",
   "pygments_lexer": "ipython3",
   "version": "3.10.12"
  }
 },
 "nbformat": 4,
 "nbformat_minor": 2
}
