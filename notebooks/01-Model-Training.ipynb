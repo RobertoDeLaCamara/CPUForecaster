{
 "cells": [
  {
   "cell_type": "code",
   "execution_count": null,
   "metadata": {},
   "outputs": [],
   "source": [
    "from prophet import Prophet\n",
    "import pandas as pd\n",
    "import matplotlib.pyplot as plt\n",
    "\n",
    "# File path\n",
    "file_path = \"../data/eric_ingressgw_udm_traffic_cpu_time_series_lk5nv.csv\"\n",
    "\n",
    "# Load the CSV file into a Pandas DataFrame\n",
    "time_series_cpu_lk5nv = pd.read_csv(file_path)\n",
    "\n",
    "# Display the first few rows of the data\n",
    "print(time_series_cpu_lk5nv.head())\n",
    "\n",
    "\n",
    "time_series_cpu_lk5nv = pd.read_csv(file_path, header=None, names=[\"Time Start\", \"Cluster\", \"CPU Utilization (%)\"])\n",
    "print(time_series_cpu_lk5nv.info())\n",
    "print(time_series_cpu_lk5nv.describe())"
   ]
  },
  {
   "cell_type": "code",
   "execution_count": null,
   "metadata": {},
   "outputs": [],
   "source": [
    "# Ensure the DataFrame has the correct columns for Prophet\n",
    "time_series_cpu_lk5nv = time_series_cpu_lk5nv[[\"Time Start\", \"CPU Utilization (%)\"]].copy()\n",
    "time_series_cpu_lk5nv.columns = [\"ds\", \"y\"]  # Rename columns for Prophet\n",
    "\n",
    "# Ensure datetime format for 'ds'\n",
    "time_series_cpu_lk5nv[\"ds\"] = pd.to_datetime(time_series_cpu_lk5nv[\"ds\"], errors='coerce')\n",
    "\n",
    "# Ensure 'y' is numeric\n",
    "time_series_cpu_lk5nv[\"y\"] = pd.to_numeric(time_series_cpu_lk5nv[\"y\"], errors='coerce')\n",
    "\n",
    "# Drop rows with missing values in 'ds' or 'y'\n",
    "time_series_cpu_lk5nv = time_series_cpu_lk5nv.dropna(subset=[\"ds\", \"y\"])\n",
    "\n",
    "# Display the cleaned DataFrame for validation\n",
    "print(time_series_cpu_lk5nv.head())\n",
    "\n",
    "# Initialize and fit the Prophet model\n",
    "model = Prophet()\n",
    "model.fit(time_series_cpu_lk5nv)\n",
    "\n",
    "\n",
    "\n"
   ]
  },
  {
   "cell_type": "markdown",
   "metadata": {},
   "source": [
    "Forecast next 60 minutes: "
   ]
  },
  {
   "cell_type": "code",
   "execution_count": null,
   "metadata": {},
   "outputs": [],
   "source": [
    "# Create a future dataframe for the next 10 minutes\n",
    "future = model.make_future_dataframe(periods=10, freq='T')\n",
    "forecast = model.predict(future)\n",
    "\n",
    "# Plot the forecast\n",
    "fig = model.plot(forecast)\n",
    "plt.title(\"10-Minute Forecast of CPU Utilization for 'capo-28037-pool1-lk5nv'\")\n",
    "plt.xlabel(\"Time\")\n",
    "plt.ylabel(\"CPU Utilization (%)\")\n",
    "plt.show()\n",
    "\n",
    "# Display forecast results for the next 10 minutes\n",
    "print(forecast[[\"ds\", \"yhat\", \"yhat_lower\", \"yhat_upper\"]].tail(10))\n"
   ]
  }
 ],
 "metadata": {
  "kernelspec": {
   "display_name": "Python 3",
   "language": "python",
   "name": "python3"
  },
  "language_info": {
   "codemirror_mode": {
    "name": "ipython",
    "version": 3
   },
   "file_extension": ".py",
   "mimetype": "text/x-python",
   "name": "python",
   "nbconvert_exporter": "python",
   "pygments_lexer": "ipython3",
   "version": "3.10.12"
  }
 },
 "nbformat": 4,
 "nbformat_minor": 2
}
